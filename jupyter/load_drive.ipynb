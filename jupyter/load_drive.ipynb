{
  "nbformat": 4,
  "nbformat_minor": 0,
  "metadata": {
    "colab": {
      "name": "load_drive.ipynb",
      "provenance": [],
      "collapsed_sections": []
    },
    "kernelspec": {
      "name": "python3",
      "display_name": "Python 3"
    }
  },
  "cells": [
    {
      "cell_type": "markdown",
      "metadata": {
        "id": "NgcCOIge8d8h",
        "colab_type": "text"
      },
      "source": [
        "### To-Do\n",
        "*   Delete dates that spill over to the previous year (Eg: for the 1st weekly expiry of Jan 2020, its dates spill over to 2019)\n",
        "\n"
      ]
    },
    {
      "cell_type": "code",
      "metadata": {
        "id": "EYiC8luxHNR4",
        "colab_type": "code",
        "colab": {
          "base_uri": "https://localhost:8080/",
          "height": 34
        },
        "outputId": "33b30dfd-0fbc-4838-c33b-8182e637b463"
      },
      "source": [
        "import pandas as pd\n",
        "import numpy as np\n",
        "print(pd.__version__)"
      ],
      "execution_count": 1,
      "outputs": [
        {
          "output_type": "stream",
          "text": [
            "1.1.0\n"
          ],
          "name": "stdout"
        }
      ]
    },
    {
      "cell_type": "code",
      "metadata": {
        "id": "s4VFdMo_iZY0",
        "colab_type": "code",
        "colab": {}
      },
      "source": [
        "# initialising google drive api\n",
        "from google.colab import auth\n",
        "auth.authenticate_user()\n",
        "from googleapiclient.discovery import build\n",
        "drive_service = build('drive', 'v3')"
      ],
      "execution_count": 2,
      "outputs": []
    },
    {
      "cell_type": "code",
      "metadata": {
        "id": "7hhmBCP-iybv",
        "colab_type": "code",
        "colab": {}
      },
      "source": [
        "FILE_ID = None\n",
        "QUERY = \"name = 'BANKNIFTYWK16500PE.csv' and mimeType = 'text/csv'\"\n",
        "\n",
        "def getFileList(service,query=None):\n",
        "  \"\"\"Search for file and retrieve file id\n",
        "  Args:\n",
        "    service: Google Drive API service instance\n",
        "  Returns:\n",
        "    file id\n",
        "  \"\"\"\n",
        "  response = []\n",
        "  page_token = None\n",
        "  while True:\n",
        "    param = {}\n",
        "    param['q'] = query\n",
        "    if page_token:\n",
        "      param['pageToken'] = page_token\n",
        "    files = service.files().list(**param).execute()\n",
        "    response.extend(files['files'])\n",
        "    page_token = files.get('nextPageToken')\n",
        "    if not page_token:\n",
        "      break\n",
        "  return response"
      ],
      "execution_count": 3,
      "outputs": []
    },
    {
      "cell_type": "code",
      "metadata": {
        "id": "XX4nsi00dk8C",
        "colab_type": "code",
        "colab": {}
      },
      "source": [
        "import io\n",
        "from googleapiclient.http import MediaIoBaseDownload\n",
        "\n",
        "def downloadFromDrive(service,fileid):\n",
        "  \"\"\"Download file from Drive\n",
        "  Args:\n",
        "    service: Google Drive API service instance\n",
        "    fileid: file id of file to be downloaded\n",
        "  Returns:\n",
        "    object of io class containing downloaded fie content as bytes\n",
        "  \"\"\"\n",
        "  request = service.files().get_media(fileId=fileid)\n",
        "  downloaded = io.BytesIO()\n",
        "  downloader = MediaIoBaseDownload(downloaded, request)\n",
        "  done = False\n",
        "  while done is False:\n",
        "      status, done = downloader.next_chunk()\n",
        "      print(\"Download %d%%.\" % int(status.progress() * 100))\n",
        "  return downloaded"
      ],
      "execution_count": 4,
      "outputs": []
    },
    {
      "cell_type": "code",
      "metadata": {
        "id": "sOBPK6Oc6iiL",
        "colab_type": "code",
        "colab": {
          "base_uri": "https://localhost:8080/",
          "height": 214
        },
        "outputId": "bd93feb8-eb09-4d42-9644-5f6bde3f50dd"
      },
      "source": [
        "%matplotlib inline\n",
        "import matplotlib.pyplot as plt\n",
        "\n",
        "close = options.Close\n",
        "close.plot(linestyle='dotted')"
      ],
      "execution_count": 5,
      "outputs": [
        {
          "output_type": "error",
          "ename": "NameError",
          "evalue": "ignored",
          "traceback": [
            "\u001b[0;31m---------------------------------------------------------------------------\u001b[0m",
            "\u001b[0;31mNameError\u001b[0m                                 Traceback (most recent call last)",
            "\u001b[0;32m<ipython-input-5-41dd30545ec1>\u001b[0m in \u001b[0;36m<module>\u001b[0;34m()\u001b[0m\n\u001b[1;32m      2\u001b[0m \u001b[0;32mimport\u001b[0m \u001b[0mmatplotlib\u001b[0m\u001b[0;34m.\u001b[0m\u001b[0mpyplot\u001b[0m \u001b[0;32mas\u001b[0m \u001b[0mplt\u001b[0m\u001b[0;34m\u001b[0m\u001b[0;34m\u001b[0m\u001b[0m\n\u001b[1;32m      3\u001b[0m \u001b[0;34m\u001b[0m\u001b[0m\n\u001b[0;32m----> 4\u001b[0;31m \u001b[0mclose\u001b[0m \u001b[0;34m=\u001b[0m \u001b[0moptions\u001b[0m\u001b[0;34m.\u001b[0m\u001b[0mClose\u001b[0m\u001b[0;34m\u001b[0m\u001b[0;34m\u001b[0m\u001b[0m\n\u001b[0m\u001b[1;32m      5\u001b[0m \u001b[0mclose\u001b[0m\u001b[0;34m.\u001b[0m\u001b[0mplot\u001b[0m\u001b[0;34m(\u001b[0m\u001b[0mlinestyle\u001b[0m\u001b[0;34m=\u001b[0m\u001b[0;34m'dotted'\u001b[0m\u001b[0;34m)\u001b[0m\u001b[0;34m\u001b[0m\u001b[0;34m\u001b[0m\u001b[0m\n",
            "\u001b[0;31mNameError\u001b[0m: name 'options' is not defined"
          ]
        }
      ]
    },
    {
      "cell_type": "markdown",
      "metadata": {
        "id": "N3-aY5FwW_l_",
        "colab_type": "text"
      },
      "source": [
        "#### Sub-Tasks\n",
        "\n",
        "\n",
        "1.   Merge date and time fields as single Datetime field - **Done**\n",
        "2.   Plot decay in Close value\n",
        "\n"
      ]
    },
    {
      "cell_type": "markdown",
      "metadata": {
        "id": "yUSiRuiwDRdj",
        "colab_type": "text"
      },
      "source": [
        "# **Straddle**"
      ]
    },
    {
      "cell_type": "code",
      "metadata": {
        "id": "-xzzOdfTGeP9",
        "colab_type": "code",
        "colab": {
          "base_uri": "https://localhost:8080/",
          "height": 102
        },
        "outputId": "131000f9-d701-44cf-8704-7c045a71e132"
      },
      "source": [
        "# fetching stock price (for BANKNIFTY)\n",
        "TICKER = 'BANKNIFTY'\n",
        "TICKER_COLUMNS = ['Ticker','Date','Time','Open','High','Low','Close','Volume','OpenInterest']\n",
        "ticker_data = pd.DataFrame()\n",
        "\n",
        "ticker_query = \"name = '%s' and mimeType = 'application/vnd.google-apps.folder'\" % TICKER\n",
        "FILE_LIST = getFileList(drive_service,ticker_query)\n",
        "for file in FILE_LIST:\n",
        "  FILE_ID = file['id']\n",
        "\n",
        "filesinfolder_query = \"'%s' in parents\" % FILE_ID\n",
        "FILE_LIST = getFileList(drive_service,filesinfolder_query)\n",
        "for file in FILE_LIST:\n",
        "  downloaded = downloadFromDrive(drive_service,file['id'])\n",
        "  buffer_contents = downloaded.getvalue().decode(encoding='utf-8')\n",
        "  data = io.StringIO(buffer_contents)\n",
        "  ticker_data = ticker_data.append(pd.read_csv(data,sep=\",\",names=TICKER_COLUMNS,index_col=False),ignore_index=True)\n",
        "\n",
        "ticker_data['DateTime'] = \"\""
      ],
      "execution_count": 5,
      "outputs": [
        {
          "output_type": "stream",
          "text": [
            "Download 100%.\n",
            "Download 100%.\n",
            "Download 100%.\n",
            "Download 100%.\n",
            "Download 100%.\n"
          ],
          "name": "stdout"
        }
      ]
    },
    {
      "cell_type": "code",
      "metadata": {
        "id": "qyBmJHG5fRpN",
        "colab_type": "code",
        "colab": {
          "base_uri": "https://localhost:8080/",
          "height": 323
        },
        "outputId": "b2a496cc-1e27-45e7-aa74-910be40d8ba5"
      },
      "source": [
        "# converting date, time values to the datetime dtype\n",
        "for index in ticker_data.index:\n",
        "  counter = 0\n",
        "  ticker_year, ticker_month, ticker_day = '','',''\n",
        "  for char in str(ticker_data['Date'][index]):\n",
        "    counter += 1\n",
        "    if counter<=4:\n",
        "      ticker_year += char\n",
        "    elif counter>4 and counter <=6:\n",
        "      ticker_month += char\n",
        "    else:\n",
        "      ticker_day += char\n",
        "  ticker_data['DateTime'][index] = pd.to_datetime(ticker_year+' '+ticker_month+' '+ticker_day+' '+ticker_data['Time'][index])\n",
        "\n",
        "# ticker_data = ticker_data.set_index('DateTime')\n",
        "ticker_data = ticker_data.drop(['Date','Time'],axis=1)\n",
        "%time ticker_data.head()"
      ],
      "execution_count": 6,
      "outputs": [
        {
          "output_type": "stream",
          "text": [
            "/usr/local/lib/python3.6/dist-packages/ipykernel_launcher.py:13: SettingWithCopyWarning: \n",
            "A value is trying to be set on a copy of a slice from a DataFrame\n",
            "\n",
            "See the caveats in the documentation: https://pandas.pydata.org/pandas-docs/stable/user_guide/indexing.html#returning-a-view-versus-a-copy\n",
            "  del sys.path[0]\n"
          ],
          "name": "stderr"
        },
        {
          "output_type": "stream",
          "text": [
            "CPU times: user 109 µs, sys: 2 µs, total: 111 µs\n",
            "Wall time: 114 µs\n"
          ],
          "name": "stdout"
        },
        {
          "output_type": "execute_result",
          "data": {
            "text/html": [
              "<div>\n",
              "<style scoped>\n",
              "    .dataframe tbody tr th:only-of-type {\n",
              "        vertical-align: middle;\n",
              "    }\n",
              "\n",
              "    .dataframe tbody tr th {\n",
              "        vertical-align: top;\n",
              "    }\n",
              "\n",
              "    .dataframe thead th {\n",
              "        text-align: right;\n",
              "    }\n",
              "</style>\n",
              "<table border=\"1\" class=\"dataframe\">\n",
              "  <thead>\n",
              "    <tr style=\"text-align: right;\">\n",
              "      <th></th>\n",
              "      <th>Ticker</th>\n",
              "      <th>Open</th>\n",
              "      <th>High</th>\n",
              "      <th>Low</th>\n",
              "      <th>Close</th>\n",
              "      <th>Volume</th>\n",
              "      <th>OpenInterest</th>\n",
              "      <th>DateTime</th>\n",
              "    </tr>\n",
              "  </thead>\n",
              "  <tbody>\n",
              "    <tr>\n",
              "      <th>0</th>\n",
              "      <td>BANKNIFTY</td>\n",
              "      <td>19122.40</td>\n",
              "      <td>19122.40</td>\n",
              "      <td>19122.40</td>\n",
              "      <td>19122.40</td>\n",
              "      <td>0</td>\n",
              "      <td>0</td>\n",
              "      <td>2020-04-01 09:08:00</td>\n",
              "    </tr>\n",
              "    <tr>\n",
              "      <th>1</th>\n",
              "      <td>BANKNIFTY</td>\n",
              "      <td>19149.60</td>\n",
              "      <td>19154.75</td>\n",
              "      <td>18889.80</td>\n",
              "      <td>18958.40</td>\n",
              "      <td>0</td>\n",
              "      <td>0</td>\n",
              "      <td>2020-04-01 09:16:00</td>\n",
              "    </tr>\n",
              "    <tr>\n",
              "      <th>2</th>\n",
              "      <td>BANKNIFTY</td>\n",
              "      <td>18953.80</td>\n",
              "      <td>18958.45</td>\n",
              "      <td>18824.75</td>\n",
              "      <td>18876.45</td>\n",
              "      <td>0</td>\n",
              "      <td>0</td>\n",
              "      <td>2020-04-01 09:17:00</td>\n",
              "    </tr>\n",
              "    <tr>\n",
              "      <th>3</th>\n",
              "      <td>BANKNIFTY</td>\n",
              "      <td>18878.05</td>\n",
              "      <td>18919.15</td>\n",
              "      <td>18864.00</td>\n",
              "      <td>18864.00</td>\n",
              "      <td>0</td>\n",
              "      <td>0</td>\n",
              "      <td>2020-04-01 09:18:00</td>\n",
              "    </tr>\n",
              "    <tr>\n",
              "      <th>4</th>\n",
              "      <td>BANKNIFTY</td>\n",
              "      <td>18867.75</td>\n",
              "      <td>18867.75</td>\n",
              "      <td>18813.75</td>\n",
              "      <td>18856.05</td>\n",
              "      <td>0</td>\n",
              "      <td>0</td>\n",
              "      <td>2020-04-01 09:19:00</td>\n",
              "    </tr>\n",
              "  </tbody>\n",
              "</table>\n",
              "</div>"
            ],
            "text/plain": [
              "      Ticker      Open      High  ...  Volume  OpenInterest             DateTime\n",
              "0  BANKNIFTY  19122.40  19122.40  ...       0             0  2020-04-01 09:08:00\n",
              "1  BANKNIFTY  19149.60  19154.75  ...       0             0  2020-04-01 09:16:00\n",
              "2  BANKNIFTY  18953.80  18958.45  ...       0             0  2020-04-01 09:17:00\n",
              "3  BANKNIFTY  18878.05  18919.15  ...       0             0  2020-04-01 09:18:00\n",
              "4  BANKNIFTY  18867.75  18867.75  ...       0             0  2020-04-01 09:19:00\n",
              "\n",
              "[5 rows x 8 columns]"
            ]
          },
          "metadata": {
            "tags": []
          },
          "execution_count": 6
        }
      ]
    },
    {
      "cell_type": "code",
      "metadata": {
        "id": "u12MtfXIDg2C",
        "colab_type": "code",
        "colab": {}
      },
      "source": [
        "# fetching folder for year (eg:2020)\n",
        "YEAR_START = 2020\n",
        "QUERY = \"name = '%d' and mimeType = 'application/vnd.google-apps.folder'\" % YEAR_START\n",
        "FILE_LIST = getFileList(drive_service,QUERY)\n",
        "\n",
        "for files in FILE_LIST:\n",
        "  FILE_ID = files['id']"
      ],
      "execution_count": 7,
      "outputs": []
    },
    {
      "cell_type": "code",
      "metadata": {
        "id": "zeX-T-eekHEb",
        "colab_type": "code",
        "colab": {
          "base_uri": "https://localhost:8080/",
          "height": 54
        },
        "outputId": "7036c9ca-aab9-4bd9-e4a8-1e762d2af879"
      },
      "source": [
        "# fetching files in year folder\n",
        "filesinfolder_query = \"'%s' in parents\" % FILE_ID\n",
        "FILE_LIST = getFileList(drive_service,filesinfolder_query)\n",
        "print(FILE_LIST)"
      ],
      "execution_count": 8,
      "outputs": [
        {
          "output_type": "stream",
          "text": [
            "[{'kind': 'drive#file', 'id': '1Im88FSX5sCFtoYK-CPtK4-1paPjUXbKG', 'name': 'Expiry 01st April', 'mimeType': 'application/vnd.google-apps.folder'}, {'kind': 'drive#file', 'id': '1ijoJ8f_msrefHalkzncpR2MlPQuDKCnh', 'name': 'Expiry 02nd January', 'mimeType': 'application/vnd.google-apps.folder'}, {'kind': 'drive#file', 'id': '1aoCzR6nsZbhppIz9caTXv_Ncx7mC92FK', 'name': 'Expiry 05th March', 'mimeType': 'application/vnd.google-apps.folder'}, {'kind': 'drive#file', 'id': '1txkncknlkah-RBPM3j3XodBoQix6qaSR', 'name': 'Expiry 06th February', 'mimeType': 'application/vnd.google-apps.folder'}, {'kind': 'drive#file', 'id': '1KdsuycqzhBIIMzCccwCOqdIF5DVf2aN-', 'name': 'Expiry 07th May', 'mimeType': 'application/vnd.google-apps.folder'}, {'kind': 'drive#file', 'id': '1YrfwKm3Xo4TamHL0y8tEOcZ1L6PULhTd', 'name': 'Expiry 09th April', 'mimeType': 'application/vnd.google-apps.folder'}, {'kind': 'drive#file', 'id': '1dLxx5EuOkf-Hlv5o9OWXIKV0IewkAc9N', 'name': 'Expiry 09th January', 'mimeType': 'application/vnd.google-apps.folder'}, {'kind': 'drive#file', 'id': '1pt6lGrDKle1uAB_SMc5hbJiel_Y7F4c-', 'name': 'Expiry 12th March', 'mimeType': 'application/vnd.google-apps.folder'}, {'kind': 'drive#file', 'id': '1aCVJq8drtORcbOS7LeRMXpgvTKI3S-CH', 'name': 'Expiry 13th February', 'mimeType': 'application/vnd.google-apps.folder'}, {'kind': 'drive#file', 'id': '1sCoY12e6j23bIxLCZaPC8OvUEQzhaxCj', 'name': 'Expiry 16th April', 'mimeType': 'application/vnd.google-apps.folder'}, {'kind': 'drive#file', 'id': '1phgCE9pKkyJqJU-Sk-ZUOoA1yS0QqS2s', 'name': 'Expiry 16th January', 'mimeType': 'application/vnd.google-apps.folder'}, {'kind': 'drive#file', 'id': '1RuluKPGIzKA8IZN6sIZtTnJktoCBSBQv', 'name': 'Expiry 16th May', 'mimeType': 'application/vnd.google-apps.folder'}, {'kind': 'drive#file', 'id': '1AS-UaJLI74obsBnnzWszNtA4ZhyYhFQl', 'name': 'Expiry 20th February', 'mimeType': 'application/vnd.google-apps.folder'}, {'kind': 'drive#file', 'id': '1_3y0Lo4Wjh9PntHMwCDCsQDJcQkF3uj-', 'name': 'Expiry 21st May', 'mimeType': 'application/vnd.google-apps.folder'}, {'kind': 'drive#file', 'id': '13JUxM6Eek908OXQ7zlKG8wsGbKzaUP8R', 'name': 'Expiry 23rd January', 'mimeType': 'application/vnd.google-apps.folder'}, {'kind': 'drive#file', 'id': '17MDAJLOlNrjUb2l_5-GEbYNO1fl7PGCr', 'name': 'Expiry 27th February', 'mimeType': 'application/vnd.google-apps.folder'}, {'kind': 'drive#file', 'id': '14eGeJqkdyc-5vrx22nn1fQOSF2Z13ftE', 'name': 'Expiry 26th March', 'mimeType': 'application/vnd.google-apps.folder'}, {'kind': 'drive#file', 'id': '1e5RGs4iDKgCIfY85qoKpRV3lMpi_hROU', 'name': 'Expiry 30th April', 'mimeType': 'application/vnd.google-apps.folder'}, {'kind': 'drive#file', 'id': '1QhRyK4KIaFxlZwNgKba8XVNkkyA2OVR2', 'name': 'Expiry 23rd April', 'mimeType': 'application/vnd.google-apps.folder'}, {'kind': 'drive#file', 'id': '1-_jDol976aGP3dRaDilxs42RN6D2qyAr', 'name': 'Expiry 19th March', 'mimeType': 'application/vnd.google-apps.folder'}, {'kind': 'drive#file', 'id': '1WwTy9Yt8fFU-jMzA1_Ku0iFwQH1MJQ2h', 'name': 'Expiry 30th January', 'mimeType': 'application/vnd.google-apps.folder'}, {'kind': 'drive#file', 'id': '1XyCcpaGTxwSvFbjiQGSXAGRTCsTkoxcf', 'name': 'Expiry 28th May', 'mimeType': 'application/vnd.google-apps.folder'}]\n"
          ],
          "name": "stdout"
        }
      ]
    },
    {
      "cell_type": "code",
      "metadata": {
        "id": "wc60tRI7Zrkz",
        "colab_type": "code",
        "colab": {}
      },
      "source": [
        "# fetching all dates when Straddle to be executed\n",
        "from datetime import timedelta\n",
        "\n",
        "dateinfile = []\n",
        "allDaysForOptions = [] #to store calculable days for each weekly expiry\n",
        "for file in FILE_LIST:\n",
        "  dateinfile = file['name'].split(maxsplit=1)[-1]\n",
        "  dateinfile += str(YEAR_START)\n",
        "  rawdate = pd.to_datetime(dateinfile)\n",
        "  dayCounter = rawdate.dayofweek + 1\n",
        "  optionDaysForWeek = []\n",
        "  insertCounter = 0\n",
        "  while len(optionDaysForWeek) <= dayCounter:\n",
        "    if (rawdate - timedelta(insertCounter)).dayofweek != 5 and (rawdate - timedelta(insertCounter)).dayofweek != 6: #accounting for Saturdays and Sundays\n",
        "      optionDaysForWeek.append(rawdate - timedelta(insertCounter))\n",
        "    insertCounter += 1\n",
        "  allDaysForOptions.append(optionDaysForWeek)"
      ],
      "execution_count": 26,
      "outputs": []
    },
    {
      "cell_type": "code",
      "metadata": {
        "id": "zz0mLNEGHgLR",
        "colab_type": "code",
        "colab": {}
      },
      "source": [
        "# to delete dates that spill over to the previous year (2019)\n",
        "for num in range(len(allDaysForOptions)):\n",
        "  temp = [date for date in allDaysForOptions[num] if date.year == 2020]\n",
        "  allDaysForOptions[num] = temp"
      ],
      "execution_count": 27,
      "outputs": []
    },
    {
      "cell_type": "code",
      "metadata": {
        "id": "hP8KJbME-_oO",
        "colab_type": "code",
        "colab": {
          "base_uri": "https://localhost:8080/",
          "height": 102
        },
        "outputId": "49f376bb-345c-4a6c-b5c9-cd39b9967cd3"
      },
      "source": [
        "# adding Date column to ticker data to make date comparisons easier\n",
        "ticker_data['Date'] = \"\"\n",
        "for index in ticker_data.index:\n",
        "  ticker_data['Date'][index] = ticker_data['DateTime'][index].date()"
      ],
      "execution_count": 29,
      "outputs": [
        {
          "output_type": "stream",
          "text": [
            "/usr/local/lib/python3.6/dist-packages/ipykernel_launcher.py:4: SettingWithCopyWarning: \n",
            "A value is trying to be set on a copy of a slice from a DataFrame\n",
            "\n",
            "See the caveats in the documentation: https://pandas.pydata.org/pandas-docs/stable/user_guide/indexing.html#returning-a-view-versus-a-copy\n",
            "  after removing the cwd from sys.path.\n"
          ],
          "name": "stderr"
        }
      ]
    },
    {
      "cell_type": "code",
      "metadata": {
        "id": "DLp7UKud2Xja",
        "colab_type": "code",
        "colab": {}
      },
      "source": [
        "def getStrikePrice(option_prices,underlying_price):\n",
        "  \"\"\"Args\n",
        "      option_prices = list of call and put option prices for a weekly expiry option\n",
        "      underlying_price = market price of underlying asset at open of day\n",
        "    Returns\n",
        "      strike price closest to underlying_price\n",
        "  \"\"\"\n",
        "  if option_prices:\n",
        "    length = len(option_prices)\n",
        "    if length>2:\n",
        "      diff1 = abs(underlying_price - option_prices[length//2])\n",
        "      diff2 = abs(underlying_price - option_prices[(length//2) + 1])\n",
        "      if diff1<diff2:\n",
        "        return getStrikePrice(option_prices[:length//2], underlying_price)\n",
        "      elif diff1>diff2:\n",
        "        return getStrikePrice(option_prices[(length//2)+1:], underlying_price)\n",
        "      else:\n",
        "        diffprime1 = abs(underlying_price - option_prices[(length//2)-1])\n",
        "    else:\n",
        "      diff1 = abs(underlying_price - option_prices[0])\n",
        "      diff2 = abs(underlying_price - option_prices[-1])\n",
        "      if diff1<diff2:\n",
        "        return option_prices[0]\n",
        "      elif diff2>diff1:\n",
        "        return option_prices[-1]\n",
        "      else:\n",
        "        return option_prices[-1]"
      ],
      "execution_count": 30,
      "outputs": []
    },
    {
      "cell_type": "code",
      "metadata": {
        "id": "x_eSjMWf-83B",
        "colab_type": "code",
        "colab": {
          "base_uri": "https://localhost:8080/",
          "height": 68
        },
        "outputId": "02322fd9-d365-470e-95b7-9dda17596a9a"
      },
      "source": [
        "# NOT IN USE\n",
        "a = [120,135,137,142,158,161,162,162, 189,190]\n",
        "b = [16000, 16000, 16100, 16200, 16300, 16300, 16400, 16500, 16500, 16600, 16700, 16700, 16800, 16800, 16900, 16900, 17000, 17000, 17100, 17100, 17200, 17200, 17300, 17300, 17400, 17400, 17500, 17500, 17600, 17600, 17700, 17700, 17800, 17800, 17900, 17900, 18000, 18000, 18100, 18100, 18200, 18200, 18300, 18300, 18400, 18400, 18500, 18500, 18600, 18600, 18700, 18700, 18800, 18800, 18900, 18900, 19000, 19000, 19100, 19100, 19200, 19200, 19300, 19300, 19400, 19400, 19500, 19500, 19600, 19600, 19700, 19700, 19800, 19800, 19900, 19900, 20000, 20000, 20100, 20100, 20200, 20200, 20300, 20300, 20400, 20400, 20500, 20500, 20600, 20600, 20700, 20700, 20800, 20800, 20900, 20900, 21000, 21000, 21100, 21100, 21200, 21200, 21300, 21300, 21400, 21400, 21500, 21500, 21600, 21600, 21700, 21700, 21800, 21900, 22000, 22000, 22100, 22200, 22300, 22400, 22500, 22500, 22600, 22700, 22800, 22900, 23000, 23000, 23100, 23200, 23300, 23400, 23500, 23500, 23600, 23700, 23900, 24000, 24000, 24100, 24200, 24300, 24500, 24600, 24700, 24800, 25000, 25000, 25500, 25600, 26000]\n",
        "c = [16000,19000,20000,20000,21000]\n",
        "underlying_price = 19122\n",
        "%time print(getStrikePrice(c, underlying_price))"
      ],
      "execution_count": 31,
      "outputs": [
        {
          "output_type": "stream",
          "text": [
            "None\n",
            "CPU times: user 85 µs, sys: 2 µs, total: 87 µs\n",
            "Wall time: 90.6 µs\n"
          ],
          "name": "stdout"
        }
      ]
    },
    {
      "cell_type": "code",
      "metadata": {
        "id": "i-QTCTjfQSGW",
        "colab_type": "code",
        "colab": {
          "base_uri": "https://localhost:8080/",
          "height": 1000
        },
        "outputId": "ffb74e7e-e22d-4d77-fd99-de37ac17be05"
      },
      "source": [
        "# executing Straddle\n",
        "for expiryDate in range(len(FILE_LIST)):\n",
        "  FILE_ID = FILE_LIST[expiryDate]['id']\n",
        "  for singleDate in allDaysForOptions[expiryDate]:\n",
        "    underlying_price_list = ticker_data[ticker_data['Date'] == singleDate.date()]\n",
        "    underlying_price_list = underlying_price_list.sort_values(by='DateTime')\n",
        "    underlying_price = underlying_price_list.iloc[0]['Close']\n",
        "    print('Underlying asset price for %s: %d'%(singleDate.date(),underlying_price))\n",
        "    print('File ID: %s'%FILE_ID)\n",
        "\n",
        "    #calculate the strike price closest to underlying price\n",
        "    files_query = \"'%s' in parents\" % FILE_ID\n",
        "    STRIKE_PRICE_FILE_LIST = getFileList(drive_service,files_query)\n",
        "    option_prices = []\n",
        "    for filename in STRIKE_PRICE_FILE_LIST:\n",
        "      chars = ''\n",
        "      # chars.append(char for char in filename['name'] if char.isnumeric()==True)\n",
        "      for char in filename['name']:\n",
        "        if char.isnumeric(): chars+=char\n",
        "      option_prices.append(int(chars))\n",
        "    option_prices = list(set(option_prices))\n",
        "    option_prices.sort()\n",
        "    print(option_prices)\n",
        "    STRIKE_PRICE = getStrikePrice(option_prices, underlying_price)\n",
        "    print('STRIKE PRICE :',STRIKE_PRICE)\n",
        "    call_file_id = [this['id'] for this in STRIKE_PRICE_FILE_LIST if this['name']=='BANKNIFTYWK'+str(STRIKE_PRICE)+'CE.csv']\n",
        "    put_file_id = [this['id'] for this in STRIKE_PRICE_FILE_LIST if this['name']=='BANKNIFTYWK'+str(STRIKE_PRICE)+'PE.csv']\n",
        "    print(call_file_id, put_file_id)\n",
        "    print(\"~~~~~~~~~~~~\")\n",
        "    # STRADDLE_RESULT = calcStraddle(drive_service, call_file_id, put_file_id)"
      ],
      "execution_count": 32,
      "outputs": [
        {
          "output_type": "stream",
          "text": [
            "Underlying asset price for 2020-04-01: 19122\n",
            "File ID: 1Im88FSX5sCFtoYK-CPtK4-1paPjUXbKG\n",
            "[16000, 16100, 16200, 16300, 16400, 16500, 16600, 16700, 16800, 16900, 17000, 17100, 17200, 17300, 17400, 17500, 17600, 17700, 17800, 17900, 18000, 18100, 18200, 18300, 18400, 18500, 18600, 18700, 18800, 18900, 19000, 19100, 19200, 19300, 19400, 19500, 19600, 19700, 19800, 19900, 20000, 20100, 20200, 20300, 20400, 20500, 20600, 20700, 20800, 20900, 21000, 21100, 21200, 21300, 21400, 21500, 21600, 21700, 21800, 21900, 22000, 22100, 22200, 22300, 22400, 22500, 22600, 22700, 22800, 22900, 23000, 23100, 23200, 23300, 23400, 23500, 23600, 23700, 23900, 24000, 24100, 24200, 24300, 24500, 24600, 24700, 24800, 25000, 25500, 25600, 26000]\n",
            "STRIKE PRICE : 19000\n",
            "['1hYTs2QYiLpHsYBOj2gIACafi0vfFSccb'] ['1EAH9XiQ5OFjdVY6HD6vqi3gcr6sjFjBU']\n",
            "~~~~~~~~~~~~\n",
            "Underlying asset price for 2020-03-31: 19307\n",
            "File ID: 1Im88FSX5sCFtoYK-CPtK4-1paPjUXbKG\n",
            "[16000, 16100, 16200, 16300, 16400, 16500, 16600, 16700, 16800, 16900, 17000, 17100, 17200, 17300, 17400, 17500, 17600, 17700, 17800, 17900, 18000, 18100, 18200, 18300, 18400, 18500, 18600, 18700, 18800, 18900, 19000, 19100, 19200, 19300, 19400, 19500, 19600, 19700, 19800, 19900, 20000, 20100, 20200, 20300, 20400, 20500, 20600, 20700, 20800, 20900, 21000, 21100, 21200, 21300, 21400, 21500, 21600, 21700, 21800, 21900, 22000, 22100, 22200, 22300, 22400, 22500, 22600, 22700, 22800, 22900, 23000, 23100, 23200, 23300, 23400, 23500, 23600, 23700, 23900, 24000, 24100, 24200, 24300, 24500, 24600, 24700, 24800, 25000, 25500, 25600, 26000]\n",
            "STRIKE PRICE : 19300\n",
            "['1HHQfixUGsl9f3h4SONJGRraUlRkcYqQ7'] ['191Dl8xXQY8qdAjC2vyWGvqus1hoqRcGE']\n",
            "~~~~~~~~~~~~\n",
            "Underlying asset price for 2020-03-30: 19254\n",
            "File ID: 1Im88FSX5sCFtoYK-CPtK4-1paPjUXbKG\n",
            "[16000, 16100, 16200, 16300, 16400, 16500, 16600, 16700, 16800, 16900, 17000, 17100, 17200, 17300, 17400, 17500, 17600, 17700, 17800, 17900, 18000, 18100, 18200, 18300, 18400, 18500, 18600, 18700, 18800, 18900, 19000, 19100, 19200, 19300, 19400, 19500, 19600, 19700, 19800, 19900, 20000, 20100, 20200, 20300, 20400, 20500, 20600, 20700, 20800, 20900, 21000, 21100, 21200, 21300, 21400, 21500, 21600, 21700, 21800, 21900, 22000, 22100, 22200, 22300, 22400, 22500, 22600, 22700, 22800, 22900, 23000, 23100, 23200, 23300, 23400, 23500, 23600, 23700, 23900, 24000, 24100, 24200, 24300, 24500, 24600, 24700, 24800, 25000, 25500, 25600, 26000]\n",
            "STRIKE PRICE : 19300\n",
            "['1HHQfixUGsl9f3h4SONJGRraUlRkcYqQ7'] ['191Dl8xXQY8qdAjC2vyWGvqus1hoqRcGE']\n",
            "~~~~~~~~~~~~\n",
            "Underlying asset price for 2020-03-27: 20801\n",
            "File ID: 1Im88FSX5sCFtoYK-CPtK4-1paPjUXbKG\n",
            "[16000, 16100, 16200, 16300, 16400, 16500, 16600, 16700, 16800, 16900, 17000, 17100, 17200, 17300, 17400, 17500, 17600, 17700, 17800, 17900, 18000, 18100, 18200, 18300, 18400, 18500, 18600, 18700, 18800, 18900, 19000, 19100, 19200, 19300, 19400, 19500, 19600, 19700, 19800, 19900, 20000, 20100, 20200, 20300, 20400, 20500, 20600, 20700, 20800, 20900, 21000, 21100, 21200, 21300, 21400, 21500, 21600, 21700, 21800, 21900, 22000, 22100, 22200, 22300, 22400, 22500, 22600, 22700, 22800, 22900, 23000, 23100, 23200, 23300, 23400, 23500, 23600, 23700, 23900, 24000, 24100, 24200, 24300, 24500, 24600, 24700, 24800, 25000, 25500, 25600, 26000]\n",
            "STRIKE PRICE : 20700\n",
            "['147GojWQMLffZS5Zl3w7dR5DQMwlArVpw'] ['1qu9kG4-E1BZ1hU6hEv0r-qPozFMab5Hw']\n",
            "~~~~~~~~~~~~\n",
            "Underlying asset price for 2020-01-02: 32133\n",
            "File ID: 1ijoJ8f_msrefHalkzncpR2MlPQuDKCnh\n",
            "[31000, 31100, 31200, 31300, 31400, 31500, 31600, 31700, 31800, 31900, 32000, 32100, 32200, 32300, 32400, 32500, 32600, 32700, 32800, 32900, 33000, 33100, 33200, 33300, 33400, 33500]\n",
            "STRIKE PRICE : 32100\n",
            "['1jSjQd9q_mOCJPrZzWj2u3jzfFFMeuhwt'] ['1k1PQ4VDiNhoOTRdT1mTAqM4F8GF8tcj0']\n",
            "~~~~~~~~~~~~\n",
            "Underlying asset price for 2020-01-01: 32237\n",
            "File ID: 1ijoJ8f_msrefHalkzncpR2MlPQuDKCnh\n",
            "[31000, 31100, 31200, 31300, 31400, 31500, 31600, 31700, 31800, 31900, 32000, 32100, 32200, 32300, 32400, 32500, 32600, 32700, 32800, 32900, 33000, 33100, 33200, 33300, 33400, 33500]\n",
            "STRIKE PRICE : 32200\n",
            "['11ZnxWAWDAb2GC01NBXuyClemJy0AuMPK'] ['13kjFYORN5-ql0H7IW3v_8wGOtuoA0hoo']\n",
            "~~~~~~~~~~~~\n",
            "Underlying asset price for 2020-03-05: 28830\n",
            "File ID: 1aoCzR6nsZbhppIz9caTXv_Ncx7mC92FK\n",
            "[27600, 27700, 27800, 27900, 28000, 28100, 28200, 28300, 28400, 28500, 28600, 28700, 28800, 28900, 29000, 29100, 29200, 29300, 29400, 29500, 29600, 29700, 29800, 29900, 30000, 30100, 30200, 30300, 30400, 30500, 30600, 30700, 30800, 30900, 31000, 31100, 31200, 31300, 31400, 31500, 31600, 31700, 31800, 31900, 32000, 32100, 32200, 32400, 32500]\n",
            "STRIKE PRICE : 28700\n",
            "['184bwIXb8LHCjfdR6zOJgrDfX8GCAXhR5'] ['1Uw7dywKldaqmbbbEvZ0LvYM1Ahgugq6f']\n",
            "~~~~~~~~~~~~\n",
            "Underlying asset price for 2020-03-04: 29252\n",
            "File ID: 1aoCzR6nsZbhppIz9caTXv_Ncx7mC92FK\n",
            "[27600, 27700, 27800, 27900, 28000, 28100, 28200, 28300, 28400, 28500, 28600, 28700, 28800, 28900, 29000, 29100, 29200, 29300, 29400, 29500, 29600, 29700, 29800, 29900, 30000, 30100, 30200, 30300, 30400, 30500, 30600, 30700, 30800, 30900, 31000, 31100, 31200, 31300, 31400, 31500, 31600, 31700, 31800, 31900, 32000, 32100, 32200, 32400, 32500]\n",
            "STRIKE PRICE : 29300\n",
            "['1lfeKEQN4WWxZ5iPVmAf4g6Quzv7v4mfN'] ['1X3f_2rr19Hv3lIYgxcRHvUSHFfXuVjGd']\n",
            "~~~~~~~~~~~~\n",
            "Underlying asset price for 2020-03-03: 29012\n",
            "File ID: 1aoCzR6nsZbhppIz9caTXv_Ncx7mC92FK\n",
            "[27600, 27700, 27800, 27900, 28000, 28100, 28200, 28300, 28400, 28500, 28600, 28700, 28800, 28900, 29000, 29100, 29200, 29300, 29400, 29500, 29600, 29700, 29800, 29900, 30000, 30100, 30200, 30300, 30400, 30500, 30600, 30700, 30800, 30900, 31000, 31100, 31200, 31300, 31400, 31500, 31600, 31700, 31800, 31900, 32000, 32100, 32200, 32400, 32500]\n",
            "STRIKE PRICE : 29000\n",
            "['1101HMDSr1VUe1bJ2S9m-GnjeOaKCpRY-'] ['1yYERUEYmUgwHt7lJFFN8TTnyvtRsurBy']\n",
            "~~~~~~~~~~~~\n",
            "Underlying asset price for 2020-03-02: 29701\n",
            "File ID: 1aoCzR6nsZbhppIz9caTXv_Ncx7mC92FK\n",
            "[27600, 27700, 27800, 27900, 28000, 28100, 28200, 28300, 28400, 28500, 28600, 28700, 28800, 28900, 29000, 29100, 29200, 29300, 29400, 29500, 29600, 29700, 29800, 29900, 30000, 30100, 30200, 30300, 30400, 30500, 30600, 30700, 30800, 30900, 31000, 31100, 31200, 31300, 31400, 31500, 31600, 31700, 31800, 31900, 32000, 32100, 32200, 32400, 32500]\n",
            "STRIKE PRICE : 29600\n",
            "['1dA4lYYLwaGhUtFMjK8eXbtQxUGjfAEtg'] ['1pICz9xVBzv3vKJ51DuYA0bRSKsi-u2hw']\n",
            "~~~~~~~~~~~~\n",
            "Underlying asset price for 2020-02-28: 29501\n",
            "File ID: 1aoCzR6nsZbhppIz9caTXv_Ncx7mC92FK\n",
            "[27600, 27700, 27800, 27900, 28000, 28100, 28200, 28300, 28400, 28500, 28600, 28700, 28800, 28900, 29000, 29100, 29200, 29300, 29400, 29500, 29600, 29700, 29800, 29900, 30000, 30100, 30200, 30300, 30400, 30500, 30600, 30700, 30800, 30900, 31000, 31100, 31200, 31300, 31400, 31500, 31600, 31700, 31800, 31900, 32000, 32100, 32200, 32400, 32500]\n",
            "STRIKE PRICE : 29500\n",
            "['1GRPPeJ36RBqQoe8Ws39RIxRu9ZWxF0An'] ['1ezAh6kyZiv2aWj_4YasoTzBxAGtFUNO_']\n",
            "~~~~~~~~~~~~\n",
            "Underlying asset price for 2020-02-06: 31070\n",
            "File ID: 1txkncknlkah-RBPM3j3XodBoQix6qaSR\n",
            "[29000, 29100, 29200, 29300, 29400, 29500, 29600, 29700, 29800, 29900, 30000, 30100, 30200, 30300, 30400, 30500, 30600, 30700, 30800, 30900, 31000, 31100, 31200, 31300, 31400, 31500, 31600, 31700, 31800, 31900, 32000]\n",
            "STRIKE PRICE : 31000\n",
            "['1SZ3U8NbK_vaQS7RaU4q7SWBjJwR41BAa'] ['1jVUdffasTdY59Q8B8AJsYKGjamcfYWQe']\n",
            "~~~~~~~~~~~~\n",
            "Underlying asset price for 2020-02-05: 30761\n",
            "File ID: 1txkncknlkah-RBPM3j3XodBoQix6qaSR\n",
            "[29000, 29100, 29200, 29300, 29400, 29500, 29600, 29700, 29800, 29900, 30000, 30100, 30200, 30300, 30400, 30500, 30600, 30700, 30800, 30900, 31000, 31100, 31200, 31300, 31400, 31500, 31600, 31700, 31800, 31900, 32000]\n",
            "STRIKE PRICE : 30800\n",
            "['1WJqTCq8z1bygktUlvq4N4wlVdfQkBx6C'] ['1SWHElvxmF9vGmD30Df2RH8xxgtF4eUGp']\n",
            "~~~~~~~~~~~~\n",
            "Underlying asset price for 2020-02-04: 30235\n",
            "File ID: 1txkncknlkah-RBPM3j3XodBoQix6qaSR\n",
            "[29000, 29100, 29200, 29300, 29400, 29500, 29600, 29700, 29800, 29900, 30000, 30100, 30200, 30300, 30400, 30500, 30600, 30700, 30800, 30900, 31000, 31100, 31200, 31300, 31400, 31500, 31600, 31700, 31800, 31900, 32000]\n",
            "STRIKE PRICE : 30200\n",
            "['1peSApR6deOyaLrJp0r4DcP5x1o7wHQKx'] ['1N0g0QgBdWg-KfUhGC6AdmpDeTyCSh33N']\n",
            "~~~~~~~~~~~~\n",
            "Underlying asset price for 2020-02-03: 29811\n",
            "File ID: 1txkncknlkah-RBPM3j3XodBoQix6qaSR\n",
            "[29000, 29100, 29200, 29300, 29400, 29500, 29600, 29700, 29800, 29900, 30000, 30100, 30200, 30300, 30400, 30500, 30600, 30700, 30800, 30900, 31000, 31100, 31200, 31300, 31400, 31500, 31600, 31700, 31800, 31900, 32000]\n",
            "STRIKE PRICE : 29800\n",
            "['1gH_Isv-AcRQy9CW6wso9alFfJ0B_RKOy'] ['1OEzldZJMrQSKpkLP2fVP490HijE_nO2X']\n",
            "~~~~~~~~~~~~\n",
            "Underlying asset price for 2020-01-31: 30950\n",
            "File ID: 1txkncknlkah-RBPM3j3XodBoQix6qaSR\n",
            "[29000, 29100, 29200, 29300, 29400, 29500, 29600, 29700, 29800, 29900, 30000, 30100, 30200, 30300, 30400, 30500, 30600, 30700, 30800, 30900, 31000, 31100, 31200, 31300, 31400, 31500, 31600, 31700, 31800, 31900, 32000]\n",
            "STRIKE PRICE : 31000\n",
            "['1SZ3U8NbK_vaQS7RaU4q7SWBjJwR41BAa'] ['1jVUdffasTdY59Q8B8AJsYKGjamcfYWQe']\n",
            "~~~~~~~~~~~~\n",
            "Underlying asset price for 2020-05-07: 19536\n",
            "File ID: 1KdsuycqzhBIIMzCccwCOqdIF5DVf2aN-\n",
            "[17500, 17600, 17700, 17800, 17900, 18000, 18100, 18200, 18300, 18400, 18500, 18600, 18700, 18800, 18900, 19000, 19100, 19200, 19300, 19400, 19500, 19600, 19700, 19800, 19900, 20000, 20100, 20200, 20300, 20400, 20500, 20600, 20700, 20800, 20900, 21000, 21100, 21200, 21300, 21400, 21500, 21600, 21700, 21800, 21900, 22000, 22100, 22200, 22300, 22400, 22500, 22600, 22700, 22800, 22900, 23000]\n",
            "STRIKE PRICE : 19500\n",
            "['1S1QEPtmZ07yOrDOhF7aaCVoCa10oSHxo'] ['14nt8fwlMgyZz16HsQAtdmIqjLpup3A3I']\n",
            "~~~~~~~~~~~~\n",
            "Underlying asset price for 2020-05-06: 19302\n",
            "File ID: 1KdsuycqzhBIIMzCccwCOqdIF5DVf2aN-\n",
            "[17500, 17600, 17700, 17800, 17900, 18000, 18100, 18200, 18300, 18400, 18500, 18600, 18700, 18800, 18900, 19000, 19100, 19200, 19300, 19400, 19500, 19600, 19700, 19800, 19900, 20000, 20100, 20200, 20300, 20400, 20500, 20600, 20700, 20800, 20900, 21000, 21100, 21200, 21300, 21400, 21500, 21600, 21700, 21800, 21900, 22000, 22100, 22200, 22300, 22400, 22500, 22600, 22700, 22800, 22900, 23000]\n",
            "STRIKE PRICE : 19200\n",
            "['1uAkjok4keCO_Dt4i3jmZjo_7tL1MCJeO'] ['1Yd2uRsyQNH2kv7BwQrC5l6prBe-3Ec7K']\n",
            "~~~~~~~~~~~~\n",
            "Underlying asset price for 2020-05-05: 20147\n",
            "File ID: 1KdsuycqzhBIIMzCccwCOqdIF5DVf2aN-\n",
            "[17500, 17600, 17700, 17800, 17900, 18000, 18100, 18200, 18300, 18400, 18500, 18600, 18700, 18800, 18900, 19000, 19100, 19200, 19300, 19400, 19500, 19600, 19700, 19800, 19900, 20000, 20100, 20200, 20300, 20400, 20500, 20600, 20700, 20800, 20900, 21000, 21100, 21200, 21300, 21400, 21500, 21600, 21700, 21800, 21900, 22000, 22100, 22200, 22300, 22400, 22500, 22600, 22700, 22800, 22900, 23000]\n",
            "STRIKE PRICE : 20100\n",
            "['1tSeaxVwgKyZf6F8q1RSDjWBrG7Zg8fjm'] ['19uRHm3DjiMAYnPpGJeJJPiuUs50czD4o']\n",
            "~~~~~~~~~~~~\n",
            "Underlying asset price for 2020-05-04: 20514\n",
            "File ID: 1KdsuycqzhBIIMzCccwCOqdIF5DVf2aN-\n",
            "[17500, 17600, 17700, 17800, 17900, 18000, 18100, 18200, 18300, 18400, 18500, 18600, 18700, 18800, 18900, 19000, 19100, 19200, 19300, 19400, 19500, 19600, 19700, 19800, 19900, 20000, 20100, 20200, 20300, 20400, 20500, 20600, 20700, 20800, 20900, 21000, 21100, 21200, 21300, 21400, 21500, 21600, 21700, 21800, 21900, 22000, 22100, 22200, 22300, 22400, 22500, 22600, 22700, 22800, 22900, 23000]\n",
            "STRIKE PRICE : 20400\n",
            "['1rKuNk8O_rnk2yeXbAkVQVRbc1LoEU9jh'] ['1J1AP4HLFWw2Se_S9HHa_pKxkd6KT-6RL']\n",
            "~~~~~~~~~~~~\n"
          ],
          "name": "stdout"
        },
        {
          "output_type": "error",
          "ename": "IndexError",
          "evalue": "ignored",
          "traceback": [
            "\u001b[0;31m---------------------------------------------------------------------------\u001b[0m",
            "\u001b[0;31mIndexError\u001b[0m                                Traceback (most recent call last)",
            "\u001b[0;32m<ipython-input-32-716a5492f67b>\u001b[0m in \u001b[0;36m<module>\u001b[0;34m()\u001b[0m\n\u001b[1;32m      5\u001b[0m     \u001b[0munderlying_price_list\u001b[0m \u001b[0;34m=\u001b[0m \u001b[0mticker_data\u001b[0m\u001b[0;34m[\u001b[0m\u001b[0mticker_data\u001b[0m\u001b[0;34m[\u001b[0m\u001b[0;34m'Date'\u001b[0m\u001b[0;34m]\u001b[0m \u001b[0;34m==\u001b[0m \u001b[0msingleDate\u001b[0m\u001b[0;34m.\u001b[0m\u001b[0mdate\u001b[0m\u001b[0;34m(\u001b[0m\u001b[0;34m)\u001b[0m\u001b[0;34m]\u001b[0m\u001b[0;34m\u001b[0m\u001b[0;34m\u001b[0m\u001b[0m\n\u001b[1;32m      6\u001b[0m     \u001b[0munderlying_price_list\u001b[0m \u001b[0;34m=\u001b[0m \u001b[0munderlying_price_list\u001b[0m\u001b[0;34m.\u001b[0m\u001b[0msort_values\u001b[0m\u001b[0;34m(\u001b[0m\u001b[0mby\u001b[0m\u001b[0;34m=\u001b[0m\u001b[0;34m'DateTime'\u001b[0m\u001b[0;34m)\u001b[0m\u001b[0;34m\u001b[0m\u001b[0;34m\u001b[0m\u001b[0m\n\u001b[0;32m----> 7\u001b[0;31m     \u001b[0munderlying_price\u001b[0m \u001b[0;34m=\u001b[0m \u001b[0munderlying_price_list\u001b[0m\u001b[0;34m.\u001b[0m\u001b[0miloc\u001b[0m\u001b[0;34m[\u001b[0m\u001b[0;36m0\u001b[0m\u001b[0;34m]\u001b[0m\u001b[0;34m[\u001b[0m\u001b[0;34m'Close'\u001b[0m\u001b[0;34m]\u001b[0m\u001b[0;34m\u001b[0m\u001b[0;34m\u001b[0m\u001b[0m\n\u001b[0m\u001b[1;32m      8\u001b[0m     \u001b[0mprint\u001b[0m\u001b[0;34m(\u001b[0m\u001b[0;34m'Underlying asset price for %s: %d'\u001b[0m\u001b[0;34m%\u001b[0m\u001b[0;34m(\u001b[0m\u001b[0msingleDate\u001b[0m\u001b[0;34m.\u001b[0m\u001b[0mdate\u001b[0m\u001b[0;34m(\u001b[0m\u001b[0;34m)\u001b[0m\u001b[0;34m,\u001b[0m\u001b[0munderlying_price\u001b[0m\u001b[0;34m)\u001b[0m\u001b[0;34m)\u001b[0m\u001b[0;34m\u001b[0m\u001b[0;34m\u001b[0m\u001b[0m\n\u001b[1;32m      9\u001b[0m     \u001b[0mprint\u001b[0m\u001b[0;34m(\u001b[0m\u001b[0;34m'File ID: %s'\u001b[0m\u001b[0;34m%\u001b[0m\u001b[0mFILE_ID\u001b[0m\u001b[0;34m)\u001b[0m\u001b[0;34m\u001b[0m\u001b[0;34m\u001b[0m\u001b[0m\n",
            "\u001b[0;32m/usr/local/lib/python3.6/dist-packages/pandas/core/indexing.py\u001b[0m in \u001b[0;36m__getitem__\u001b[0;34m(self, key)\u001b[0m\n\u001b[1;32m    877\u001b[0m \u001b[0;34m\u001b[0m\u001b[0m\n\u001b[1;32m    878\u001b[0m             \u001b[0mmaybe_callable\u001b[0m \u001b[0;34m=\u001b[0m \u001b[0mcom\u001b[0m\u001b[0;34m.\u001b[0m\u001b[0mapply_if_callable\u001b[0m\u001b[0;34m(\u001b[0m\u001b[0mkey\u001b[0m\u001b[0;34m,\u001b[0m \u001b[0mself\u001b[0m\u001b[0;34m.\u001b[0m\u001b[0mobj\u001b[0m\u001b[0;34m)\u001b[0m\u001b[0;34m\u001b[0m\u001b[0;34m\u001b[0m\u001b[0m\n\u001b[0;32m--> 879\u001b[0;31m             \u001b[0;32mreturn\u001b[0m \u001b[0mself\u001b[0m\u001b[0;34m.\u001b[0m\u001b[0m_getitem_axis\u001b[0m\u001b[0;34m(\u001b[0m\u001b[0mmaybe_callable\u001b[0m\u001b[0;34m,\u001b[0m \u001b[0maxis\u001b[0m\u001b[0;34m=\u001b[0m\u001b[0maxis\u001b[0m\u001b[0;34m)\u001b[0m\u001b[0;34m\u001b[0m\u001b[0;34m\u001b[0m\u001b[0m\n\u001b[0m\u001b[1;32m    880\u001b[0m \u001b[0;34m\u001b[0m\u001b[0m\n\u001b[1;32m    881\u001b[0m     \u001b[0;32mdef\u001b[0m \u001b[0m_is_scalar_access\u001b[0m\u001b[0;34m(\u001b[0m\u001b[0mself\u001b[0m\u001b[0;34m,\u001b[0m \u001b[0mkey\u001b[0m\u001b[0;34m:\u001b[0m \u001b[0mTuple\u001b[0m\u001b[0;34m)\u001b[0m\u001b[0;34m:\u001b[0m\u001b[0;34m\u001b[0m\u001b[0;34m\u001b[0m\u001b[0m\n",
            "\u001b[0;32m/usr/local/lib/python3.6/dist-packages/pandas/core/indexing.py\u001b[0m in \u001b[0;36m_getitem_axis\u001b[0;34m(self, key, axis)\u001b[0m\n\u001b[1;32m   1494\u001b[0m \u001b[0;34m\u001b[0m\u001b[0m\n\u001b[1;32m   1495\u001b[0m             \u001b[0;31m# validate the location\u001b[0m\u001b[0;34m\u001b[0m\u001b[0;34m\u001b[0m\u001b[0;34m\u001b[0m\u001b[0m\n\u001b[0;32m-> 1496\u001b[0;31m             \u001b[0mself\u001b[0m\u001b[0;34m.\u001b[0m\u001b[0m_validate_integer\u001b[0m\u001b[0;34m(\u001b[0m\u001b[0mkey\u001b[0m\u001b[0;34m,\u001b[0m \u001b[0maxis\u001b[0m\u001b[0;34m)\u001b[0m\u001b[0;34m\u001b[0m\u001b[0;34m\u001b[0m\u001b[0m\n\u001b[0m\u001b[1;32m   1497\u001b[0m \u001b[0;34m\u001b[0m\u001b[0m\n\u001b[1;32m   1498\u001b[0m             \u001b[0;32mreturn\u001b[0m \u001b[0mself\u001b[0m\u001b[0;34m.\u001b[0m\u001b[0mobj\u001b[0m\u001b[0;34m.\u001b[0m\u001b[0m_ixs\u001b[0m\u001b[0;34m(\u001b[0m\u001b[0mkey\u001b[0m\u001b[0;34m,\u001b[0m \u001b[0maxis\u001b[0m\u001b[0;34m=\u001b[0m\u001b[0maxis\u001b[0m\u001b[0;34m)\u001b[0m\u001b[0;34m\u001b[0m\u001b[0;34m\u001b[0m\u001b[0m\n",
            "\u001b[0;32m/usr/local/lib/python3.6/dist-packages/pandas/core/indexing.py\u001b[0m in \u001b[0;36m_validate_integer\u001b[0;34m(self, key, axis)\u001b[0m\n\u001b[1;32m   1435\u001b[0m         \u001b[0mlen_axis\u001b[0m \u001b[0;34m=\u001b[0m \u001b[0mlen\u001b[0m\u001b[0;34m(\u001b[0m\u001b[0mself\u001b[0m\u001b[0;34m.\u001b[0m\u001b[0mobj\u001b[0m\u001b[0;34m.\u001b[0m\u001b[0m_get_axis\u001b[0m\u001b[0;34m(\u001b[0m\u001b[0maxis\u001b[0m\u001b[0;34m)\u001b[0m\u001b[0;34m)\u001b[0m\u001b[0;34m\u001b[0m\u001b[0;34m\u001b[0m\u001b[0m\n\u001b[1;32m   1436\u001b[0m         \u001b[0;32mif\u001b[0m \u001b[0mkey\u001b[0m \u001b[0;34m>=\u001b[0m \u001b[0mlen_axis\u001b[0m \u001b[0;32mor\u001b[0m \u001b[0mkey\u001b[0m \u001b[0;34m<\u001b[0m \u001b[0;34m-\u001b[0m\u001b[0mlen_axis\u001b[0m\u001b[0;34m:\u001b[0m\u001b[0;34m\u001b[0m\u001b[0;34m\u001b[0m\u001b[0m\n\u001b[0;32m-> 1437\u001b[0;31m             \u001b[0;32mraise\u001b[0m \u001b[0mIndexError\u001b[0m\u001b[0;34m(\u001b[0m\u001b[0;34m\"single positional indexer is out-of-bounds\"\u001b[0m\u001b[0;34m)\u001b[0m\u001b[0;34m\u001b[0m\u001b[0;34m\u001b[0m\u001b[0m\n\u001b[0m\u001b[1;32m   1438\u001b[0m \u001b[0;34m\u001b[0m\u001b[0m\n\u001b[1;32m   1439\u001b[0m     \u001b[0;31m# -------------------------------------------------------------------\u001b[0m\u001b[0;34m\u001b[0m\u001b[0;34m\u001b[0m\u001b[0;34m\u001b[0m\u001b[0m\n",
            "\u001b[0;31mIndexError\u001b[0m: single positional indexer is out-of-bounds"
          ]
        }
      ]
    }
  ]
}